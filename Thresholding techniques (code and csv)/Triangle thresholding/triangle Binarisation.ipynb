{
 "cells": [
  {
   "cell_type": "code",
   "execution_count": 2,
   "id": "cd62a40e",
   "metadata": {},
   "outputs": [],
   "source": [
    "import cv2\n",
    "import numpy as np\n",
    "import pandas as pd\n",
    "import os\n",
    "from glob import glob\n",
    "import matplotlib.pyplot as plt"
   ]
  },
  {
   "cell_type": "code",
   "execution_count": 4,
   "id": "dc4ea8c5",
   "metadata": {},
   "outputs": [],
   "source": [
    "def binarisation(imgpath,label):\n",
    "    array = []\n",
    "    upper=0\n",
    "    lower=0\n",
    "    uppercount=0\n",
    "    lowercount=0\n",
    "    img = cv2.imread(r\"{}\".format(imgpath), cv2.IMREAD_UNCHANGED)\n",
    "    b,g,r = cv2.split(img)\n",
    "    index = 0\n",
    "    for color in [b,g,r]:\n",
    "        (thresh, binary)=cv2.threshold(color, 127,255,cv2.THRESH_TRIANGLE)\n",
    "        colorChannel = img[:,:,index]\n",
    "        for i in range(len(binary)):\n",
    "            for j in range(len(binary[0])):\n",
    "                if(binary[i][j]==255):\n",
    "                    upper=upper+colorChannel[i][j]\n",
    "                    uppercount+=1\n",
    "                else:\n",
    "                    lower=lower+ colorChannel[i][j]\n",
    "                    lowercount+=1\n",
    "        try:\n",
    "            U1 = upper/uppercount\n",
    "            L1 = lower/lowercount\n",
    "        except:\n",
    "            U1 =0\n",
    "            L1 = 0\n",
    "        array.append(U1)\n",
    "        array.append(L1)\n",
    "\n",
    "    index+=1\n",
    "    array.append(label)\n",
    "    return array"
   ]
  },
  {
   "cell_type": "code",
   "execution_count": 6,
   "id": "cffc9811",
   "metadata": {},
   "outputs": [
    {
     "data": {
      "text/plain": [
       "[170.57092665788318,\n",
       " 109.81789152531655,\n",
       " 169.2675159235669,\n",
       " 109.79147211978285,\n",
       " 167.29843285598486,\n",
       " 109.76257095440948,\n",
       " 'arr']"
      ]
     },
     "execution_count": 6,
     "metadata": {},
     "output_type": "execute_result"
    }
   ],
   "source": [
    "import cv2\n",
    "src = cv2.imread(\"F:\\\\BE\\\\PROJECT\\\\UCMerced_LandUse\\\\Images\\\\agricultural\\\\agricultural00.tif\", cv2.IMREAD_UNCHANGED)\n",
    "binarisation(\"F:\\\\BE\\\\PROJECT\\\\UCMerced_LandUse\\\\Images\\\\agricultural\\\\agricultural00.tif\",\"arr\")"
   ]
  },
  {
   "cell_type": "code",
   "execution_count": 7,
   "id": "3bd4bec5",
   "metadata": {},
   "outputs": [
    {
     "name": "stdout",
     "output_type": "stream",
     "text": [
      "current folder : agricultural\n",
      "current folder : airplane\n",
      "current folder : baseballdiamond\n",
      "current folder : beach\n",
      "current folder : buildings\n",
      "current folder : chaparral\n",
      "current folder : denseresidential\n",
      "current folder : forest\n",
      "current folder : freeway\n",
      "current folder : golfcourse\n",
      "current folder : harbor\n",
      "current folder : intersection\n",
      "current folder : mediumresidential\n",
      "current folder : mobilehomepark\n",
      "current folder : overpass\n",
      "current folder : parkinglot\n",
      "current folder : river\n",
      "current folder : runway\n",
      "current folder : sparseresidential\n",
      "current folder : storagetanks\n",
      "current folder : tenniscourt\n"
     ]
    }
   ],
   "source": [
    "import os\n",
    "\n",
    "categories = os.listdir(f\"F:\\\\BE\\\\PROJECT\\\\UCMerced_LandUse\\\\Images\")\n",
    "array = []\n",
    "array.append([\"B1\",\"B2\",\"G1\",\"G2\",\"R1\",\"R2\",\"class\"])\n",
    "for folder in categories:\n",
    "    print(\"current folder :\" ,folder)\n",
    "    for file in os.listdir(f\"F:\\\\BE\\\\PROJECT\\\\UCMerced_LandUse\\\\Images\\\\{folder}\"):\n",
    "        filepath = f\"F:\\\\BE\\\\PROJECT\\\\UCMerced_LandUse\\\\Images\\\\{folder}\\\\{file}\"\n",
    "        array.append(binarisation(filepath,folder))\n",
    "        \n",
    "\n",
    "df = pd.DataFrame(array)\n",
    "df.to_excel(f'C:\\\\Users\\\\Akash Bhalerao\\\\Desktop\\\\triangle\\\\trianglebinarisation.xlsx', index=False)"
   ]
  },
  {
   "cell_type": "code",
   "execution_count": null,
   "id": "7b3a69e2",
   "metadata": {},
   "outputs": [],
   "source": []
  }
 ],
 "metadata": {
  "kernelspec": {
   "display_name": "Python 3 (ipykernel)",
   "language": "python",
   "name": "python3"
  },
  "language_info": {
   "codemirror_mode": {
    "name": "ipython",
    "version": 3
   },
   "file_extension": ".py",
   "mimetype": "text/x-python",
   "name": "python",
   "nbconvert_exporter": "python",
   "pygments_lexer": "ipython3",
   "version": "3.9.7"
  }
 },
 "nbformat": 4,
 "nbformat_minor": 5
}
