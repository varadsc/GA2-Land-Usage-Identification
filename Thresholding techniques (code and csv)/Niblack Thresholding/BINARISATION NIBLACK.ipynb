{
 "cells": [
  {
   "cell_type": "code",
   "execution_count": 12,
   "id": "6c052e38",
   "metadata": {},
   "outputs": [],
   "source": [
    "import cv2\n",
    "import numpy as np\n",
    "import pandas as pd\n",
    "import os\n",
    "from glob import glob\n",
    "import matplotlib.pyplot as plt"
   ]
  },
  {
   "cell_type": "code",
   "execution_count": 13,
   "id": "a2383e87",
   "metadata": {},
   "outputs": [],
   "source": [
    "from skimage.filters import(threshold_niblack)\n",
    "from skimage import img_as_ubyte"
   ]
  },
  {
   "cell_type": "code",
   "execution_count": 66,
   "id": "e777ecb2",
   "metadata": {},
   "outputs": [],
   "source": [
    "def binarisation(imgpath,label):\n",
    "    array = []\n",
    "    upper=0\n",
    "    lower=0\n",
    "    uppercount=0\n",
    "    lowercount=0\n",
    "    \n",
    "    matplotlib.rcParams['font.size'] = 9\n",
    "    window_size = 25\n",
    "\n",
    "\n",
    "    img = Image.open(imgpath)\n",
    "    imageArray = np.asarray(img)\n",
    "    thresh_niblack = threshold_niblack(imageArray, window_size=window_size, k=0.8)\n",
    "    binary_niblack2 = imageArray > thresh_niblack\n",
    "        \n",
    "    img = cv2.imread(r\"{}\".format(imgpath), cv2.IMREAD_UNCHANGED)\n",
    "    b,g,r = cv2.split(img)\n",
    "    index = 0\n",
    "    for color in [b,g,r]:\n",
    "        colorChannel = img[:,:,index]\n",
    "        binary_niblack = binary_niblack2[:,:,index]\n",
    "        for i in range(len(binary_niblack)):\n",
    "            for j in range(len(binary_niblack[0])):\n",
    "                if(!binary_niblack[i][j]):\n",
    "                    upper=upper+colorChannel[i][j]\n",
    "                    uppercount+=1\n",
    "                else:\n",
    "                    lower=lower+ colorChannel[i][j]\n",
    "                    lowercount+=1\n",
    "        try:\n",
    "            U1 = upper/uppercount\n",
    "            L1 = lower/lowercount\n",
    "        except:\n",
    "            U1 =0\n",
    "            L1 = 0\n",
    "        array.append(U1)\n",
    "        array.append(L1)\n",
    "\n",
    "    index+=1\n",
    "    array.append(label)\n",
    "    return array"
   ]
  },
  {
   "cell_type": "code",
   "execution_count": 68,
   "id": "10e6225a",
   "metadata": {
    "scrolled": true
   },
   "outputs": [
    {
     "name": "stdout",
     "output_type": "stream",
     "text": [
      "current folder : agricultural\n",
      "current folder : airplane\n",
      "current folder : baseballdiamond\n",
      "current folder : beach\n",
      "current folder : buildings\n",
      "current folder : chaparral\n",
      "current folder : denseresidential\n",
      "current folder : forest\n",
      "current folder : freeway\n",
      "current folder : golfcourse\n",
      "current folder : harbor\n",
      "current folder : intersection\n",
      "current folder : mediumresidential\n",
      "current folder : mobilehomepark\n",
      "current folder : overpass\n",
      "current folder : parkinglot\n",
      "current folder : river\n",
      "current folder : runway\n",
      "current folder : sparseresidential\n",
      "current folder : storagetanks\n",
      "current folder : tenniscourt\n"
     ]
    }
   ],
   "source": [
    "import os\n",
    "from skimage.data import page\n",
    "from skimage.filters import (threshold_niblack)\n",
    "from PIL import Image\n",
    "\n",
    "\n",
    "categories = os.listdir(f\"C:\\\\Users\\\\SANDEEP\\\\anaconda3\\\\UCMerced_LandUse\\\\Images\")\n",
    "array = []\n",
    "array.append([\"B1\",\"B2\",\"G1\",\"G2\",\"R1\",\"R2\",\"class\"])\n",
    "for folder in categories:\n",
    "    print(\"current folder :\" ,folder)\n",
    "    for file in os.listdir(f\"C:\\\\Users\\\\SANDEEP\\\\anaconda3\\\\UCMerced_LandUse\\\\Images\\\\{folder}\"):\n",
    "        filepath = f\"C:\\\\Users\\\\SANDEEP\\\\anaconda3\\\\UCMerced_LandUse\\\\Images\\\\{folder}\\\\{file}\"\n",
    "        array.append(binarisation(filepath,folder))\n",
    "\n",
    "\n",
    "df = pd.DataFrame(array)\n",
    "df.to_excel(f'C://Users//SANDEEP//binarisationry_Niblack.xlsx', index=False)"
   ]
  },
  {
   "cell_type": "code",
   "execution_count": null,
   "id": "1cd40868",
   "metadata": {},
   "outputs": [],
   "source": []
  }
 ],
 "metadata": {
  "kernelspec": {
   "display_name": "Python 3 (ipykernel)",
   "language": "python",
   "name": "python3"
  },
  "language_info": {
   "codemirror_mode": {
    "name": "ipython",
    "version": 3
   },
   "file_extension": ".py",
   "mimetype": "text/x-python",
   "name": "python",
   "nbconvert_exporter": "python",
   "pygments_lexer": "ipython3",
   "version": "3.9.12"
  }
 },
 "nbformat": 4,
 "nbformat_minor": 5
}
