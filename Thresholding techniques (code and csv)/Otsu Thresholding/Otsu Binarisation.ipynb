{
 "cells": [
  {
   "cell_type": "code",
   "execution_count": 1,
   "id": "2a6f390f",
   "metadata": {},
   "outputs": [],
   "source": [
    "import cv2\n",
    "import numpy as np\n",
    "import pandas as pd\n",
    "import os\n",
    "from glob import glob\n",
    "import matplotlib.pyplot as plt"
   ]
  },
  {
   "cell_type": "code",
   "execution_count": 2,
   "id": "3ff5d4c2",
   "metadata": {},
   "outputs": [],
   "source": [
    "def binarisation(imgpath,label):\n",
    "    array = []\n",
    "    upper=0\n",
    "    lower=0\n",
    "    uppercount=0\n",
    "    lowercount=0\n",
    "    img = cv2.imread(r\"{}\".format(imgpath), cv2.IMREAD_UNCHANGED)\n",
    "    b,g,r = cv2.split(img)\n",
    "    index = 0\n",
    "    for color in [b,g,r]:\n",
    "        (thresh, binary)=cv2.threshold(color, 127,255,cv2.THRESH_BINARY + cv2.THRESH_OTSU)\n",
    "        colorChannel = img[:,:,index]\n",
    "        for i in range(len(binary)):\n",
    "            for j in range(len(binary[0])):\n",
    "                if(binary[i][j]==255):\n",
    "                    upper=upper+colorChannel[i][j]\n",
    "                    uppercount+=1\n",
    "                else:\n",
    "                    lower=lower+ colorChannel[i][j]\n",
    "                    lowercount+=1\n",
    "        try:\n",
    "            U1 = upper/uppercount\n",
    "            L1 = lower/lowercount\n",
    "        except:\n",
    "            U1 =0\n",
    "            L1 = 0\n",
    "        array.append(U1)\n",
    "        array.append(L1)\n",
    "\n",
    "    index+=1\n",
    "    array.append(label)\n",
    "    return array"
   ]
  },
  {
   "cell_type": "code",
   "execution_count": 3,
   "id": "946db2f6",
   "metadata": {},
   "outputs": [
    {
     "name": "stdout",
     "output_type": "stream",
     "text": [
      "current folder is  agricultural\n"
     ]
    }
   ],
   "source": [
    "# C:\\Users\\varad\\project work data\\UCMerced_LandUse\\Images\n",
    "categories = os.listdir(f\"C:\\\\Users\\\\varad\\\\project work data\\\\UCMerced_LandUse\\\\Images\")\n",
    "# C:\\Users\\Shree\\project work data\\UCMerced_LandUse\\Images\n",
    "\n",
    "array = []\n",
    "array.append([\"B1\" , \"B2\" , \"G1\" , \"G2\" , \"R1\" , \"R2\" , \"Class\"])\n",
    "for folder in categories:\n",
    "    print(\"current folder is \" , folder)\n",
    "    for file in os.listdir(f\"C:\\\\Users\\\\varad\\\\project work data\\\\UCMerced_LandUse\\\\Images\\\\{folder}\"):\n",
    "        filename = f\"C:\\\\Users\\\\varad\\\\project work data\\\\UCMerced_LandUse\\\\Images\\\\{folder}\\\\{file}\"\n",
    "        array.append(binarisation(filename,folder))\n",
    "\n",
    "    \n",
    "df = pd.DataFrame(array)\n",
    "df.to_excel(f'C://Users//varad//project work data//results demonstration//otsubinarisation.xlsx' , index=False)"
   ]
  },
  {
   "cell_type": "code",
   "execution_count": 6,
   "id": "4958c015",
   "metadata": {},
   "outputs": [],
   "source": [
    "# categories = os.listdir(f\"C:\\\\Users\\\\DELL\\\\project work data\\\\UCMerced_LandUse\\\\Images\")\n",
    "\n",
    "# array = []\n",
    "# # for folder in categories:\n",
    "# #     print(\"current folder is \" , folder)\n",
    "# array.append([\"B1\" , \"B2\" , \"G1\" , \"G2\" , \"R1\" , \"R2\" , \"Class\"])\n",
    "# for file in os.listdir(f\"C:\\\\Users\\\\DELL\\\\project work data\\\\UCMerced_LandUse\\\\Images\\\\agricultural\"):\n",
    "#     filename = f\"C:\\\\Users\\\\DELL\\\\project work data\\\\UCMerced_LandUse\\\\Images\\\\agricultural\\\\{file}\"\n",
    "#     array.append(binarisation(filename,folder))\n",
    "        \n",
    "    \n",
    "# df = pd.DataFrame(array)\n",
    "# df.to_excel(f'C:/Users//DELL//project work data//Temp//newDataSet.xlsx' , index=False)"
   ]
  },
  {
   "cell_type": "code",
   "execution_count": null,
   "id": "c9437051",
   "metadata": {},
   "outputs": [],
   "source": []
  }
 ],
 "metadata": {
  "kernelspec": {
   "display_name": "Python 3 (ipykernel)",
   "language": "python",
   "name": "python3"
  },
  "language_info": {
   "codemirror_mode": {
    "name": "ipython",
    "version": 3
   },
   "file_extension": ".py",
   "mimetype": "text/x-python",
   "name": "python",
   "nbconvert_exporter": "python",
   "pygments_lexer": "ipython3",
   "version": "3.9.13"
  }
 },
 "nbformat": 4,
 "nbformat_minor": 5
}
